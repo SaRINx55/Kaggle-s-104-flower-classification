{
 "cells": [
  {
   "cell_type": "markdown",
   "metadata": {},
   "source": [
    "# About this kernel\n",
    "\n",
    "A fork of the very comprehensive [starter kernel](https://www.kaggle.com/mgornergoogle/getting-started-with-100-flowers-on-tpu). I didn't add much, remove a whole bunch (please check out the official kernel for more info), hide some big scary functions. I mostly just hooked the largest efficientnet laying around and ran it for a couple 'pochs. Please consume this with moderation (only 30h per week!).\n",
    "\n",
    "\n",
    "\n",
    "## Updates\n",
    "\n",
    "* V9: Tried warmup by only training softmax layer for 5 epochs before unfreezing all weights.\n",
    "* V10: More data augmentations\n",
    "* V11: Use LR Scheduler, idea comes from here.\n",
    "* V12: Use both training and validation data to train model.\n",
    "* V14: Train longer (25 epochs).\n",
    "* V15: Back to 20 epochs; Global Max Pooling instead of Average.\n",
    "* V16: Roll back to Global Average Pooling\n",
    "* V18: Roll back to V13\n",
    "\n",
    "* V19: Added DenseNet201 and MobileNetV2---> 0.96127 Ifeel like DenseNet201 overfitted on the data because epoch 18, 19, 20 had acc = 1.0000 \n",
    "* V20: Added InceptionV3\n",
    "* V21: Added Xception---> 0.96228\n"
   ]
  },
  {
   "cell_type": "code",
   "execution_count": 1,
   "metadata": {},
   "outputs": [],
   "source": [
    "!pip install -q efficientnet"
   ]
  },
  {
   "cell_type": "code",
   "execution_count": 2,
   "metadata": {
    "_cell_guid": "b1076dfc-b9ad-4769-8c92-a6c4dae69d19",
    "_uuid": "8f2839f25d086af736a60e9eeb907d3b93b6e0e5"
   },
   "outputs": [
    {
     "name": "stdout",
     "output_type": "stream",
     "text": [
      "Tensorflow version 2.1.0\n"
     ]
    }
   ],
   "source": [
    "import math, re, os\n",
    "import tensorflow as tf\n",
    "import numpy as np\n",
    "from matplotlib import pyplot as plt\n",
    "from kaggle_datasets import KaggleDatasets\n",
    "import efficientnet.tfkeras as efn\n",
    "from sklearn.metrics import f1_score, precision_score, recall_score, confusion_matrix\n",
    "from tensorflow.keras.applications import DenseNet201\n",
    "from tensorflow.keras.applications import MobileNetV2\n",
    "from tensorflow.keras.applications import InceptionV3\n",
    "from tensorflow.keras.applications import Xception\n",
    "import tensorflow.keras.backend as K\n",
    "print(\"Tensorflow version \" + tf.__version__)"
   ]
  },
  {
   "cell_type": "markdown",
   "metadata": {},
   "source": [
    "# Configurations"
   ]
  },
  {
   "cell_type": "code",
   "execution_count": 3,
   "metadata": {},
   "outputs": [
    {
     "name": "stdout",
     "output_type": "stream",
     "text": [
      "128\n"
     ]
    }
   ],
   "source": [
    "AUTO = tf.data.experimental.AUTOTUNE\n",
    "\n",
    "# Create strategy from tpu\n",
    "tpu = tf.distribute.cluster_resolver.TPUClusterResolver()\n",
    "tf.config.experimental_connect_to_cluster(tpu)\n",
    "tf.tpu.experimental.initialize_tpu_system(tpu)\n",
    "strategy = tf.distribute.experimental.TPUStrategy(tpu)\n",
    "\n",
    "# Data access\n",
    "GCS_DS_PATH = KaggleDatasets().get_gcs_path()\n",
    "\n",
    "# Configuration\n",
    "IMAGE_SIZE = [512, 512]\n",
    "EPOCHS = 20\n",
    "BATCH_SIZE = 16 * strategy.num_replicas_in_sync\n",
    "print(BATCH_SIZE)"
   ]
  },
  {
   "cell_type": "code",
   "execution_count": 4,
   "metadata": {},
   "outputs": [],
   "source": [
    "GCS_PATH_SELECT = { # available image sizes\n",
    "    192: GCS_DS_PATH + '/tfrecords-jpeg-192x192',\n",
    "    224: GCS_DS_PATH + '/tfrecords-jpeg-224x224',\n",
    "    331: GCS_DS_PATH + '/tfrecords-jpeg-331x331',\n",
    "    512: GCS_DS_PATH + '/tfrecords-jpeg-512x512'\n",
    "}\n",
    "GCS_PATH = GCS_PATH_SELECT[IMAGE_SIZE[0]]\n",
    "\n",
    "TRAINING_FILENAMES = tf.io.gfile.glob(GCS_PATH + '/train/*.tfrec')\n",
    "VALIDATION_FILENAMES = tf.io.gfile.glob(GCS_PATH + '/val/*.tfrec')\n",
    "TEST_FILENAMES = tf.io.gfile.glob(GCS_PATH + '/test/*.tfrec') # predictions on this dataset should be submitted for the competition"
   ]
  },
  {
   "cell_type": "markdown",
   "metadata": {},
   "source": [
    "Unhide to see `CLASSES`:"
   ]
  },
  {
   "cell_type": "code",
   "execution_count": 5,
   "metadata": {
    "_kg_hide-input": true
   },
   "outputs": [],
   "source": [
    "CLASSES = ['pink primrose',    'hard-leaved pocket orchid', 'canterbury bells', 'sweet pea',     'wild geranium',     'tiger lily',           'moon orchid',              'bird of paradise', 'monkshood',        'globe thistle',         # 00 - 09\n",
    "           'snapdragon',       \"colt's foot\",               'king protea',      'spear thistle', 'yellow iris',       'globe-flower',         'purple coneflower',        'peruvian lily',    'balloon flower',   'giant white arum lily', # 10 - 19\n",
    "           'fire lily',        'pincushion flower',         'fritillary',       'red ginger',    'grape hyacinth',    'corn poppy',           'prince of wales feathers', 'stemless gentian', 'artichoke',        'sweet william',         # 20 - 29\n",
    "           'carnation',        'garden phlox',              'love in the mist', 'cosmos',        'alpine sea holly',  'ruby-lipped cattleya', 'cape flower',              'great masterwort', 'siam tulip',       'lenten rose',           # 30 - 39\n",
    "           'barberton daisy',  'daffodil',                  'sword lily',       'poinsettia',    'bolero deep blue',  'wallflower',           'marigold',                 'buttercup',        'daisy',            'common dandelion',      # 40 - 49\n",
    "           'petunia',          'wild pansy',                'primula',          'sunflower',     'lilac hibiscus',    'bishop of llandaff',   'gaura',                    'geranium',         'orange dahlia',    'pink-yellow dahlia',    # 50 - 59\n",
    "           'cautleya spicata', 'japanese anemone',          'black-eyed susan', 'silverbush',    'californian poppy', 'osteospermum',         'spring crocus',            'iris',             'windflower',       'tree poppy',            # 60 - 69\n",
    "           'gazania',          'azalea',                    'water lily',       'rose',          'thorn apple',       'morning glory',        'passion flower',           'lotus',            'toad lily',        'anthurium',             # 70 - 79\n",
    "           'frangipani',       'clematis',                  'hibiscus',         'columbine',     'desert-rose',       'tree mallow',          'magnolia',                 'cyclamen ',        'watercress',       'canna lily',            # 80 - 89\n",
    "           'hippeastrum ',     'bee balm',                  'pink quill',       'foxglove',      'bougainvillea',     'camellia',             'mallow',                   'mexican petunia',  'bromelia',         'blanket flower',        # 90 - 99\n",
    "           'trumpet creeper',  'blackberry lily',           'common tulip',     'wild rose']                                                                                                                                               # 100 - 102"
   ]
  },
  {
   "cell_type": "markdown",
   "metadata": {},
   "source": [
    "# Helper Functions\n",
    "## Visualization"
   ]
  },
  {
   "cell_type": "code",
   "execution_count": 6,
   "metadata": {
    "_kg_hide-input": true
   },
   "outputs": [],
   "source": [
    "def display_training_curves(training, validation, title, subplot):\n",
    "    if subplot%10==1: # set up the subplots on the first call\n",
    "        plt.subplots(figsize=(10,10), facecolor='#F0F0F0')\n",
    "        plt.tight_layout()\n",
    "    ax = plt.subplot(subplot)\n",
    "    ax.set_facecolor('#F8F8F8')\n",
    "    ax.plot(training)\n",
    "    ax.plot(validation)\n",
    "    ax.set_title('model '+ title)\n",
    "    ax.set_ylabel(title)\n",
    "    #ax.set_ylim(0.28,1.05)\n",
    "    ax.set_xlabel('epoch')\n",
    "    ax.legend(['train', 'valid.'])"
   ]
  },
  {
   "cell_type": "markdown",
   "metadata": {},
   "source": [
    "## Datasets Functions"
   ]
  },
  {
   "cell_type": "code",
   "execution_count": 7,
   "metadata": {
    "_cell_guid": "79c7e3d0-c299-4dcb-8224-4455121ee9b0",
    "_kg_hide-input": true,
    "_uuid": "d629ff2d2480ee46fbb7e2d37f6b5fab8052498a"
   },
   "outputs": [],
   "source": [
    "def decode_image(image_data):\n",
    "    image = tf.image.decode_jpeg(image_data, channels=3)\n",
    "    image = tf.cast(image, tf.float32) / 255.0  # convert image to floats in [0, 1] range\n",
    "    image = tf.reshape(image, [*IMAGE_SIZE, 3]) # explicit size needed for TPU\n",
    "    return image\n",
    "\n",
    "def read_labeled_tfrecord(example):\n",
    "    LABELED_TFREC_FORMAT = {\n",
    "        \"image\": tf.io.FixedLenFeature([], tf.string), # tf.string means bytestring\n",
    "        \"class\": tf.io.FixedLenFeature([], tf.int64),  # shape [] means single element\n",
    "    }\n",
    "    example = tf.io.parse_single_example(example, LABELED_TFREC_FORMAT)\n",
    "    image = decode_image(example['image'])\n",
    "    label = tf.cast(example['class'], tf.int32)\n",
    "    return image, label # returns a dataset of (image, label) pairs\n",
    "\n",
    "def read_unlabeled_tfrecord(example):\n",
    "    UNLABELED_TFREC_FORMAT = {\n",
    "        \"image\": tf.io.FixedLenFeature([], tf.string), # tf.string means bytestring\n",
    "        \"id\": tf.io.FixedLenFeature([], tf.string),  # shape [] means single element\n",
    "        # class is missing, this competitions's challenge is to predict flower classes for the test dataset\n",
    "    }\n",
    "    example = tf.io.parse_single_example(example, UNLABELED_TFREC_FORMAT)\n",
    "    image = decode_image(example['image'])\n",
    "    idnum = example['id']\n",
    "    return image, idnum # returns a dataset of image(s)\n",
    "\n",
    "def load_dataset(filenames, labeled=True, ordered=False):\n",
    "    # Read from TFRecords. For optimal performance, reading from multiple files at once and\n",
    "    # disregarding data order. Order does not matter since we will be shuffling the data anyway.\n",
    "\n",
    "    ignore_order = tf.data.Options()\n",
    "    if not ordered:\n",
    "        ignore_order.experimental_deterministic = False # disable order, increase speed\n",
    "\n",
    "    dataset = tf.data.TFRecordDataset(filenames, num_parallel_reads=AUTO) # automatically interleaves reads from multiple files\n",
    "    dataset = dataset.with_options(ignore_order) # uses data as soon as it streams in, rather than in its original order\n",
    "    dataset = dataset.map(read_labeled_tfrecord if labeled else read_unlabeled_tfrecord, num_parallel_calls=AUTO)\n",
    "    # returns a dataset of (image, label) pairs if labeled=True or (image, id) pairs if labeled=False\n",
    "    return dataset\n",
    "\n",
    "def data_augment(image, label, seed=2020):\n",
    "    # data augmentation. Thanks to the dataset.prefetch(AUTO) statement in the next function (below),\n",
    "    # this happens essentially for free on TPU. Data pipeline code is executed on the \"CPU\" part\n",
    "    # of the TPU while the TPU itself is computing gradients.\n",
    "    image = tf.image.random_flip_left_right(image, seed=seed)\n",
    "#     image = tf.image.random_flip_up_down(image, seed=seed)\n",
    "#     image = tf.image.random_brightness(image, 0.1, seed=seed)\n",
    "    \n",
    "#     image = tf.image.random_jpeg_quality(image, 85, 100, seed=seed)\n",
    "#     image = tf.image.resize(image, [530, 530])\n",
    "#     image = tf.image.random_crop(image, [512, 512], seed=seed)\n",
    "    #image = tf.image.random_saturation(image, 0, 2)\n",
    "    return image, label   \n",
    "\n",
    "def get_training_dataset(do_aug = True):\n",
    "    dataset = load_dataset(TRAINING_FILENAMES, labeled=True, ordered = False)\n",
    "    dataset = dataset.map(data_augment, num_parallel_calls=AUTO)\n",
    "    if do_aug: dataset = dataset.map(transform, num_parallel_calls=AUTO)\n",
    "    #dataset = dataset.map(data_augment, num_parallel_calls=AUTO)\n",
    "    dataset = dataset.repeat() # the training dataset must repeat for several epochs\n",
    "    dataset = dataset.shuffle(2048)\n",
    "    dataset = dataset.batch(BATCH_SIZE)\n",
    "    dataset = dataset.prefetch(AUTO) # prefetch next batch while training (autotune prefetch buffer size)\n",
    "    return dataset\n",
    "\n",
    "def get_validation_dataset():\n",
    "    dataset = load_dataset(VALIDATION_FILENAMES, labeled=True)\n",
    "    dataset = dataset.batch(BATCH_SIZE)\n",
    "    dataset = dataset.cache()\n",
    "    dataset = dataset.prefetch(AUTO) # prefetch next batch while training (autotune prefetch buffer size)\n",
    "    return dataset\n",
    "\n",
    "def get_train_valid_datasets():\n",
    "    dataset = load_dataset(TRAINING_FILENAMES + VALIDATION_FILENAMES, labeled=True)\n",
    "    dataset = dataset.map(data_augment, num_parallel_calls=AUTO)\n",
    "    #if do_aug: dataset = dataset.map(transform, num_parallel_calls=AUTO)\n",
    "    dataset = dataset.repeat() # the training dataset must repeat for several epochs\n",
    "    dataset = dataset.shuffle(2048)\n",
    "    dataset = dataset.batch(BATCH_SIZE)\n",
    "    dataset = dataset.prefetch(AUTO) # prefetch next batch while training (autotune prefetch buffer size)\n",
    "    return dataset\n",
    "\n",
    "def get_test_dataset(ordered=False):\n",
    "    dataset = load_dataset(TEST_FILENAMES, labeled=False, ordered=True)\n",
    "    dataset = dataset.batch(BATCH_SIZE)\n",
    "    dataset = dataset.prefetch(AUTO) # prefetch next batch while training (autotune prefetch buffer size)\n",
    "    return dataset\n",
    "\n",
    "def count_data_items(filenames):\n",
    "    # the number of data items is written in the name of the .tfrec files, i.e. flowers00-230.tfrec = 230 data items\n",
    "    n = [int(re.compile(r\"-([0-9]*)\\.\").search(filename).group(1)) for filename in filenames]\n",
    "    return np.sum(n)"
   ]
  },
  {
   "cell_type": "code",
   "execution_count": 8,
   "metadata": {},
   "outputs": [],
   "source": [
    "import math\n",
    "#AUGMENTATIONS OF IMAGES!\n",
    "def get_mat(rotation, shear, height_zoom, width_zoom, height_shift, width_shift):\n",
    "    # returns 3x3 transformmatrix which transforms indicies\n",
    "        \n",
    "    # CONVERT DEGREES TO RADIANS\n",
    "    rotation = math.pi * rotation / 180.\n",
    "    shear = math.pi * shear / 180.\n",
    "    \n",
    "    # ROTATION MATRIX\n",
    "    c1 = tf.math.cos(rotation)\n",
    "    s1 = tf.math.sin(rotation)\n",
    "    one = tf.constant([1],dtype='float32')\n",
    "    zero = tf.constant([0],dtype='float32')\n",
    "    rotation_matrix = tf.reshape( tf.concat([c1,s1,zero, -s1,c1,zero, zero,zero,one],axis=0),[3,3] )\n",
    "        \n",
    "    # SHEAR MATRIX\n",
    "    c2 = tf.math.cos(shear)\n",
    "    s2 = tf.math.sin(shear)\n",
    "    shear_matrix = tf.reshape( tf.concat([one,s2,zero, zero,c2,zero, zero,zero,one],axis=0),[3,3] )    \n",
    "    \n",
    "    # ZOOM MATRIX\n",
    "    zoom_matrix = tf.reshape( tf.concat([one/height_zoom,zero,zero, zero,one/width_zoom,zero, zero,zero,one],axis=0),[3,3] )\n",
    "    \n",
    "    # SHIFT MATRIX\n",
    "    shift_matrix = tf.reshape( tf.concat([one,zero,height_shift, zero,one,width_shift, zero,zero,one],axis=0),[3,3] )\n",
    "    \n",
    "    return K.dot(K.dot(rotation_matrix, shear_matrix), K.dot(zoom_matrix, shift_matrix))"
   ]
  },
  {
   "cell_type": "code",
   "execution_count": 9,
   "metadata": {},
   "outputs": [],
   "source": [
    "def transform(image,label):\n",
    "    # input image - is one image of size [dim,dim,3] not a batch of [b,dim,dim,3]\n",
    "    # output - image randomly rotated, sheared, zoomed, and shifted\n",
    "    DIM = IMAGE_SIZE[0]\n",
    "    XDIM = DIM%2 #fix for size 331\n",
    "    \n",
    "    rot = 15. * tf.random.normal([1],dtype='float32')\n",
    "    shr = 5. * tf.random.normal([1],dtype='float32') \n",
    "    h_zoom = 1.0 + tf.random.normal([1],dtype='float32')/10.\n",
    "    w_zoom = 1.0 + tf.random.normal([1],dtype='float32')/10.\n",
    "    h_shift = 16. * tf.random.normal([1],dtype='float32') \n",
    "    w_shift = 16. * tf.random.normal([1],dtype='float32') \n",
    "  \n",
    "    # GET TRANSFORMATION MATRIX\n",
    "    m = get_mat(rot,shr,h_zoom,w_zoom,h_shift,w_shift) \n",
    "\n",
    "    # LIST DESTINATION PIXEL INDICES\n",
    "    x = tf.repeat( tf.range(DIM//2,-DIM//2,-1), DIM )\n",
    "    y = tf.tile( tf.range(-DIM//2,DIM//2),[DIM] )\n",
    "    z = tf.ones([DIM*DIM],dtype='int32')\n",
    "    idx = tf.stack( [x,y,z] )\n",
    "    \n",
    "    # ROTATE DESTINATION PIXELS ONTO ORIGIN PIXELS\n",
    "    idx2 = K.dot(m,tf.cast(idx,dtype='float32'))\n",
    "    idx2 = K.cast(idx2,dtype='int32')\n",
    "    idx2 = K.clip(idx2,-DIM//2+XDIM+1,DIM//2)\n",
    "    \n",
    "    # FIND ORIGIN PIXEL VALUES           \n",
    "    idx3 = tf.stack( [DIM//2-idx2[0,], DIM//2-1+idx2[1,]] )\n",
    "    d = tf.gather_nd(image,tf.transpose(idx3))\n",
    "        \n",
    "    return tf.reshape(d,[DIM,DIM,3]),label"
   ]
  },
  {
   "cell_type": "code",
   "execution_count": 10,
   "metadata": {},
   "outputs": [
    {
     "ename": "TypeError",
     "evalue": "get_training_dataset() got multiple values for argument 'do_aug'",
     "output_type": "error",
     "traceback": [
      "\u001b[0;31m---------------------------------------------------------------------------\u001b[0m",
      "\u001b[0;31mTypeError\u001b[0m                                 Traceback (most recent call last)",
      "\u001b[0;32m<ipython-input-10-3419b3a4712b>\u001b[0m in \u001b[0;36m<module>\u001b[0;34m\u001b[0m\n\u001b[1;32m      1\u001b[0m \u001b[0mrow\u001b[0m \u001b[0;34m=\u001b[0m \u001b[0;36m3\u001b[0m\u001b[0;34m;\u001b[0m \u001b[0mcol\u001b[0m \u001b[0;34m=\u001b[0m \u001b[0;36m4\u001b[0m\u001b[0;34m;\u001b[0m\u001b[0;34m\u001b[0m\u001b[0m\n\u001b[0;32m----> 2\u001b[0;31m \u001b[0mall_elements\u001b[0m \u001b[0;34m=\u001b[0m \u001b[0mget_training_dataset\u001b[0m\u001b[0;34m(\u001b[0m\u001b[0mload_dataset\u001b[0m\u001b[0;34m(\u001b[0m\u001b[0mTRAINING_FILENAMES\u001b[0m\u001b[0;34m)\u001b[0m\u001b[0;34m,\u001b[0m\u001b[0mdo_aug\u001b[0m\u001b[0;34m=\u001b[0m\u001b[0;32mFalse\u001b[0m\u001b[0;34m)\u001b[0m\u001b[0;34m.\u001b[0m\u001b[0munbatch\u001b[0m\u001b[0;34m(\u001b[0m\u001b[0;34m)\u001b[0m\u001b[0;34m\u001b[0m\u001b[0m\n\u001b[0m\u001b[1;32m      3\u001b[0m \u001b[0mone_element\u001b[0m \u001b[0;34m=\u001b[0m \u001b[0mtf\u001b[0m\u001b[0;34m.\u001b[0m\u001b[0mdata\u001b[0m\u001b[0;34m.\u001b[0m\u001b[0mDataset\u001b[0m\u001b[0;34m.\u001b[0m\u001b[0mfrom_tensors\u001b[0m\u001b[0;34m(\u001b[0m \u001b[0mnext\u001b[0m\u001b[0;34m(\u001b[0m\u001b[0miter\u001b[0m\u001b[0;34m(\u001b[0m\u001b[0mall_elements\u001b[0m\u001b[0;34m)\u001b[0m\u001b[0;34m)\u001b[0m \u001b[0;34m)\u001b[0m\u001b[0;34m\u001b[0m\u001b[0m\n\u001b[1;32m      4\u001b[0m \u001b[0maugmented_element\u001b[0m \u001b[0;34m=\u001b[0m \u001b[0mone_element\u001b[0m\u001b[0;34m.\u001b[0m\u001b[0mrepeat\u001b[0m\u001b[0;34m(\u001b[0m\u001b[0;34m)\u001b[0m\u001b[0;34m.\u001b[0m\u001b[0mmap\u001b[0m\u001b[0;34m(\u001b[0m\u001b[0mtransform\u001b[0m\u001b[0;34m)\u001b[0m\u001b[0;34m.\u001b[0m\u001b[0mbatch\u001b[0m\u001b[0;34m(\u001b[0m\u001b[0mrow\u001b[0m\u001b[0;34m*\u001b[0m\u001b[0mcol\u001b[0m\u001b[0;34m)\u001b[0m\u001b[0;34m\u001b[0m\u001b[0m\n\u001b[1;32m      5\u001b[0m \u001b[0;34m\u001b[0m\u001b[0m\n",
      "\u001b[0;31mTypeError\u001b[0m: get_training_dataset() got multiple values for argument 'do_aug'"
     ]
    }
   ],
   "source": [
    "row = 3; col = 4;\n",
    "all_elements = get_training_dataset(load_dataset(TRAINING_FILENAMES),do_aug=False).unbatch()\n",
    "one_element = tf.data.Dataset.from_tensors( next(iter(all_elements)) )\n",
    "augmented_element = one_element.repeat().map(transform).batch(row*col)\n",
    "\n",
    "for (img,label) in augmented_element:\n",
    "    plt.figure(figsize=(15,int(15*row/col)))\n",
    "    for j in range(row*col):\n",
    "        plt.subplot(row,col,j+1)\n",
    "        plt.axis('off')\n",
    "        plt.imshow(img[j,])\n",
    "    plt.show()\n",
    "    break"
   ]
  },
  {
   "cell_type": "code",
   "execution_count": null,
   "metadata": {},
   "outputs": [],
   "source": []
  },
  {
   "cell_type": "markdown",
   "metadata": {},
   "source": [
    "## Model Functions"
   ]
  },
  {
   "cell_type": "code",
   "execution_count": 11,
   "metadata": {
    "_kg_hide-input": true
   },
   "outputs": [],
   "source": [
    "def lrfn(epoch):\n",
    "    LR_START = 0.00001\n",
    "    LR_MAX = 0.00005 * strategy.num_replicas_in_sync\n",
    "    LR_MIN = 0.00001\n",
    "    LR_RAMPUP_EPOCHS = 5\n",
    "    LR_SUSTAIN_EPOCHS = 0\n",
    "    LR_EXP_DECAY = .8\n",
    "    \n",
    "    if epoch < LR_RAMPUP_EPOCHS:\n",
    "        lr = (LR_MAX - LR_START) / LR_RAMPUP_EPOCHS * epoch + LR_START\n",
    "    elif epoch < LR_RAMPUP_EPOCHS + LR_SUSTAIN_EPOCHS:\n",
    "        lr = LR_MAX\n",
    "    else:\n",
    "        lr = (LR_MAX - LR_MIN) * LR_EXP_DECAY**(epoch - LR_RAMPUP_EPOCHS - LR_SUSTAIN_EPOCHS) + LR_MIN\n",
    "    return lr"
   ]
  },
  {
   "cell_type": "code",
   "execution_count": 12,
   "metadata": {
    "_kg_hide-input": true
   },
   "outputs": [],
   "source": [
    "\n",
    "def unfreeze(model):\n",
    "    for layer in model.layers:\n",
    "        layer.trainable = True\n",
    "        \n",
    "\n",
    "def unfreeze(model2):\n",
    "    for layer in model.layers:\n",
    "        layer.trainable = True\n",
    "\n",
    "\n",
    "def unfreeze(model3):\n",
    "    for layer in model.layers:\n",
    "        layer.trainable = True\n",
    "        \n",
    "\n",
    "\n",
    "def unfreeze(model4):\n",
    "    for layer in model.layers:\n",
    "        layer.trainable = True\n",
    "        \n",
    "\n",
    "def unfreeze(model5):\n",
    "    for layer in model.layers:\n",
    "        layer.trainable = True"
   ]
  },
  {
   "cell_type": "markdown",
   "metadata": {},
   "source": [
    "# Training Model"
   ]
  },
  {
   "cell_type": "code",
   "execution_count": 13,
   "metadata": {
    "_cell_guid": "79c7e3d0-c299-4dcb-8224-4455121ee9b0",
    "_kg_hide-input": true,
    "_uuid": "d629ff2d2480ee46fbb7e2d37f6b5fab8052498a"
   },
   "outputs": [
    {
     "name": "stdout",
     "output_type": "stream",
     "text": [
      "Dataset: 12753 training images, 3712 validation images, 7382 unlabeled test images\n"
     ]
    }
   ],
   "source": [
    "NUM_TRAINING_IMAGES = count_data_items(TRAINING_FILENAMES)\n",
    "NUM_VALIDATION_IMAGES = count_data_items(VALIDATION_FILENAMES)\n",
    "NUM_TEST_IMAGES = count_data_items(TEST_FILENAMES)\n",
    "STEPS_PER_EPOCH = NUM_TRAINING_IMAGES // BATCH_SIZE\n",
    "print('Dataset: {} training images, {} validation images, {} unlabeled test images'.format(NUM_TRAINING_IMAGES, NUM_VALIDATION_IMAGES, NUM_TEST_IMAGES))"
   ]
  },
  {
   "cell_type": "markdown",
   "metadata": {},
   "source": [
    "## Load Model into TPU"
   ]
  },
  {
   "cell_type": "code",
   "execution_count": 14,
   "metadata": {},
   "outputs": [
    {
     "name": "stdout",
     "output_type": "stream",
     "text": [
      "Downloading data from https://github.com/qubvel/efficientnet/releases/download/v0.0.1/efficientnet-b7_noisy-student_notop.h5\n",
      "258072576/258068648 [==============================] - 4s 0us/step\n",
      "Model: \"sequential\"\n",
      "_________________________________________________________________\n",
      "Layer (type)                 Output Shape              Param #   \n",
      "=================================================================\n",
      "efficientnet-b7 (Model)      (None, 16, 16, 2560)      64097680  \n",
      "_________________________________________________________________\n",
      "global_average_pooling2d (Gl (None, 2560)              0         \n",
      "_________________________________________________________________\n",
      "dense (Dense)                (None, 104)               266344    \n",
      "=================================================================\n",
      "Total params: 64,364,024\n",
      "Trainable params: 64,053,304\n",
      "Non-trainable params: 310,720\n",
      "_________________________________________________________________\n"
     ]
    }
   ],
   "source": [
    "# Need this line so Google will recite some incantations\n",
    "# for Turing to magically load the model onto the TPU\n",
    "\n",
    "with strategy.scope():\n",
    "    enet = efn.EfficientNetB7(\n",
    "        input_shape=(512, 512, 3),\n",
    "        weights='noisy-student',\n",
    "        include_top=False\n",
    "    )\n",
    "    \n",
    "    model = tf.keras.Sequential([\n",
    "        enet,\n",
    "        tf.keras.layers.GlobalAveragePooling2D(),\n",
    "        tf.keras.layers.Dense(len(CLASSES), activation='softmax')\n",
    "    ])\n",
    "        \n",
    "    model.compile(\n",
    "        optimizer=tf.keras.optimizers.Adam(),\n",
    "        loss = 'sparse_categorical_crossentropy',\n",
    "        metrics=['sparse_categorical_accuracy']\n",
    "    )\n",
    "    model.summary()"
   ]
  },
  {
   "cell_type": "code",
   "execution_count": 15,
   "metadata": {},
   "outputs": [
    {
     "name": "stdout",
     "output_type": "stream",
     "text": [
      "Downloading data from https://github.com/keras-team/keras-applications/releases/download/densenet/densenet201_weights_tf_dim_ordering_tf_kernels_notop.h5\n",
      "74842112/74836368 [==============================] - 1s 0us/step\n",
      "Model: \"sequential_1\"\n",
      "_________________________________________________________________\n",
      "Layer (type)                 Output Shape              Param #   \n",
      "=================================================================\n",
      "densenet201 (Model)          (None, 16, 16, 1920)      18321984  \n",
      "_________________________________________________________________\n",
      "global_average_pooling2d_1 ( (None, 1920)              0         \n",
      "_________________________________________________________________\n",
      "dense_1 (Dense)              (None, 104)               199784    \n",
      "=================================================================\n",
      "Total params: 18,521,768\n",
      "Trainable params: 18,292,712\n",
      "Non-trainable params: 229,056\n",
      "_________________________________________________________________\n"
     ]
    }
   ],
   "source": [
    "with strategy.scope():\n",
    "    rnet = DenseNet201(\n",
    "        input_shape=(512, 512, 3),\n",
    "        weights='imagenet',\n",
    "        include_top=False\n",
    "    )\n",
    "\n",
    "    model2 = tf.keras.Sequential([\n",
    "        rnet,\n",
    "        tf.keras.layers.GlobalAveragePooling2D(),\n",
    "        tf.keras.layers.Dense(len(CLASSES), activation='softmax')\n",
    "    ])\n",
    "        \n",
    "model2.compile(\n",
    "    optimizer=tf.keras.optimizers.Adam(),\n",
    "    loss = 'sparse_categorical_crossentropy',\n",
    "    metrics=['sparse_categorical_accuracy']\n",
    ")\n",
    "model2.summary()\n",
    "\n",
    "\n"
   ]
  },
  {
   "cell_type": "code",
   "execution_count": 16,
   "metadata": {},
   "outputs": [
    {
     "name": "stderr",
     "output_type": "stream",
     "text": [
      "/opt/conda/lib/python3.6/site-packages/keras_applications/mobilenet_v2.py:294: UserWarning: `input_shape` is undefined or non-square, or `rows` is not in [96, 128, 160, 192, 224]. Weights for input shape (224, 224) will be loaded as the default.\n",
      "  warnings.warn('`input_shape` is undefined or non-square, '\n"
     ]
    },
    {
     "name": "stdout",
     "output_type": "stream",
     "text": [
      "Downloading data from https://github.com/JonathanCMitchell/mobilenet_v2_keras/releases/download/v1.1/mobilenet_v2_weights_tf_dim_ordering_tf_kernels_1.0_224_no_top.h5\n",
      "9412608/9406464 [==============================] - 0s 0us/step\n",
      "Model: \"sequential_2\"\n",
      "_________________________________________________________________\n",
      "Layer (type)                 Output Shape              Param #   \n",
      "=================================================================\n",
      "mobilenetv2_1.00_224 (Model) (None, 16, 16, 1280)      2257984   \n",
      "_________________________________________________________________\n",
      "global_average_pooling2d_2 ( (None, 1280)              0         \n",
      "_________________________________________________________________\n",
      "dense_2 (Dense)              (None, 104)               133224    \n",
      "=================================================================\n",
      "Total params: 2,391,208\n",
      "Trainable params: 2,357,096\n",
      "Non-trainable params: 34,112\n",
      "_________________________________________________________________\n"
     ]
    }
   ],
   "source": [
    "with strategy.scope():\n",
    "    mnet = MobileNetV2(\n",
    "        input_shape=(512, 512, 3),\n",
    "        weights='imagenet',\n",
    "        include_top=False\n",
    "    )\n",
    "\n",
    "    model3 = tf.keras.Sequential([\n",
    "        mnet,\n",
    "        tf.keras.layers.GlobalAveragePooling2D(),\n",
    "        tf.keras.layers.Dense(len(CLASSES), activation='softmax')\n",
    "    ])\n",
    "        \n",
    "model3.compile(\n",
    "    optimizer=tf.keras.optimizers.Adam(),\n",
    "    loss = 'sparse_categorical_crossentropy',\n",
    "    metrics=['sparse_categorical_accuracy']\n",
    ")\n",
    "model3.summary()\n"
   ]
  },
  {
   "cell_type": "code",
   "execution_count": 17,
   "metadata": {},
   "outputs": [
    {
     "name": "stdout",
     "output_type": "stream",
     "text": [
      "Downloading data from https://github.com/fchollet/deep-learning-models/releases/download/v0.5/inception_v3_weights_tf_dim_ordering_tf_kernels_notop.h5\n",
      "87916544/87910968 [==============================] - 1s 0us/step\n",
      "Model: \"sequential_3\"\n",
      "_________________________________________________________________\n",
      "Layer (type)                 Output Shape              Param #   \n",
      "=================================================================\n",
      "inception_v3 (Model)         (None, 14, 14, 2048)      21802784  \n",
      "_________________________________________________________________\n",
      "global_average_pooling2d_3 ( (None, 2048)              0         \n",
      "_________________________________________________________________\n",
      "dense_3 (Dense)              (None, 104)               213096    \n",
      "=================================================================\n",
      "Total params: 22,015,880\n",
      "Trainable params: 21,981,448\n",
      "Non-trainable params: 34,432\n",
      "_________________________________________________________________\n"
     ]
    }
   ],
   "source": [
    "with strategy.scope():\n",
    "    InV3 = InceptionV3(\n",
    "        input_shape=(512, 512, 3),\n",
    "        weights='imagenet',\n",
    "        include_top=False\n",
    "    )\n",
    "\n",
    "    model4 = tf.keras.Sequential([\n",
    "        InV3,\n",
    "        tf.keras.layers.GlobalAveragePooling2D(),\n",
    "        tf.keras.layers.Dense(len(CLASSES), activation='softmax')\n",
    "    ])\n",
    "        \n",
    "model4.compile(\n",
    "    optimizer=tf.keras.optimizers.Adam(),\n",
    "    loss = 'sparse_categorical_crossentropy',\n",
    "    metrics=['sparse_categorical_accuracy']\n",
    ")\n",
    "model4.summary()"
   ]
  },
  {
   "cell_type": "code",
   "execution_count": 18,
   "metadata": {},
   "outputs": [
    {
     "name": "stdout",
     "output_type": "stream",
     "text": [
      "Downloading data from https://github.com/fchollet/deep-learning-models/releases/download/v0.4/xception_weights_tf_dim_ordering_tf_kernels_notop.h5\n",
      "83689472/83683744 [==============================] - 14s 0us/step\n",
      "Model: \"sequential_4\"\n",
      "_________________________________________________________________\n",
      "Layer (type)                 Output Shape              Param #   \n",
      "=================================================================\n",
      "xception (Model)             (None, 16, 16, 2048)      20861480  \n",
      "_________________________________________________________________\n",
      "global_average_pooling2d_4 ( (None, 2048)              0         \n",
      "_________________________________________________________________\n",
      "dense_4 (Dense)              (None, 104)               213096    \n",
      "=================================================================\n",
      "Total params: 21,074,576\n",
      "Trainable params: 21,020,048\n",
      "Non-trainable params: 54,528\n",
      "_________________________________________________________________\n"
     ]
    }
   ],
   "source": [
    "with strategy.scope():\n",
    "    Xce = Xception(\n",
    "        input_shape=(512, 512, 3),\n",
    "        weights='imagenet',\n",
    "        include_top=False\n",
    "    )\n",
    "\n",
    "    model5 = tf.keras.Sequential([\n",
    "        Xce,\n",
    "        tf.keras.layers.GlobalAveragePooling2D(),\n",
    "        tf.keras.layers.Dense(len(CLASSES), activation='softmax')\n",
    "    ])\n",
    "        \n",
    "model5.compile(\n",
    "    optimizer=tf.keras.optimizers.Adam(),\n",
    "    loss = 'sparse_categorical_crossentropy',\n",
    "    metrics=['sparse_categorical_accuracy']\n",
    ")\n",
    "model5.summary()"
   ]
  },
  {
   "cell_type": "markdown",
   "metadata": {},
   "source": [
    "## Training"
   ]
  },
  {
   "cell_type": "code",
   "execution_count": 19,
   "metadata": {},
   "outputs": [],
   "source": [
    "import pandas as pd"
   ]
  },
  {
   "cell_type": "code",
   "execution_count": null,
   "metadata": {},
   "outputs": [],
   "source": []
  },
  {
   "cell_type": "code",
   "execution_count": 20,
   "metadata": {
    "_kg_hide-output": true
   },
   "outputs": [
    {
     "name": "stdout",
     "output_type": "stream",
     "text": [
      "Train for 99 steps\n",
      "\n",
      "Epoch 00001: LearningRateScheduler reducing learning rate to 1e-05.\n",
      "Epoch 1/20\n",
      "99/99 [==============================] - 427s 4s/step - loss: 4.5978 - sparse_categorical_accuracy: 0.0458 - val_loss: 4.5751 - val_sparse_categorical_accuracy: 0.0854\n",
      "\n",
      "Epoch 00002: LearningRateScheduler reducing learning rate to 8.8e-05.\n",
      "Epoch 2/20\n",
      "99/99 [==============================] - 110s 1s/step - loss: 3.4261 - sparse_categorical_accuracy: 0.2955 - val_loss: 2.2789 - val_sparse_categorical_accuracy: 0.5183\n",
      "\n",
      "Epoch 00003: LearningRateScheduler reducing learning rate to 0.000166.\n",
      "Epoch 3/20\n",
      "99/99 [==============================] - 102s 1s/step - loss: 1.3853 - sparse_categorical_accuracy: 0.6860 - val_loss: 0.6197 - val_sparse_categorical_accuracy: 0.8615\n",
      "\n",
      "Epoch 00004: LearningRateScheduler reducing learning rate to 0.000244.\n",
      "Epoch 4/20\n",
      "99/99 [==============================] - 107s 1s/step - loss: 0.6336 - sparse_categorical_accuracy: 0.8430 - val_loss: 0.3198 - val_sparse_categorical_accuracy: 0.9251\n",
      "\n",
      "Epoch 00005: LearningRateScheduler reducing learning rate to 0.000322.\n",
      "Epoch 5/20\n",
      "99/99 [==============================] - 108s 1s/step - loss: 0.4388 - sparse_categorical_accuracy: 0.8886 - val_loss: 0.2639 - val_sparse_categorical_accuracy: 0.9337\n",
      "\n",
      "Epoch 00006: LearningRateScheduler reducing learning rate to 0.0004.\n",
      "Epoch 6/20\n",
      "99/99 [==============================] - 108s 1s/step - loss: 0.3440 - sparse_categorical_accuracy: 0.9112 - val_loss: 0.2620 - val_sparse_categorical_accuracy: 0.9380\n",
      "\n",
      "Epoch 00007: LearningRateScheduler reducing learning rate to 0.000322.\n",
      "Epoch 7/20\n",
      "99/99 [==============================] - 108s 1s/step - loss: 0.2344 - sparse_categorical_accuracy: 0.9385 - val_loss: 0.2232 - val_sparse_categorical_accuracy: 0.9491\n",
      "\n",
      "Epoch 00008: LearningRateScheduler reducing learning rate to 0.0002596000000000001.\n",
      "Epoch 8/20\n",
      "99/99 [==============================] - 103s 1s/step - loss: 0.1742 - sparse_categorical_accuracy: 0.9545 - val_loss: 0.2140 - val_sparse_categorical_accuracy: 0.9539\n",
      "\n",
      "Epoch 00009: LearningRateScheduler reducing learning rate to 0.00020968000000000004.\n",
      "Epoch 9/20\n",
      "99/99 [==============================] - 108s 1s/step - loss: 0.1234 - sparse_categorical_accuracy: 0.9678 - val_loss: 0.1983 - val_sparse_categorical_accuracy: 0.9564\n",
      "\n",
      "Epoch 00010: LearningRateScheduler reducing learning rate to 0.00016974400000000002.\n",
      "Epoch 10/20\n",
      "99/99 [==============================] - 108s 1s/step - loss: 0.1021 - sparse_categorical_accuracy: 0.9722 - val_loss: 0.1940 - val_sparse_categorical_accuracy: 0.9577\n",
      "\n",
      "Epoch 00011: LearningRateScheduler reducing learning rate to 0.00013779520000000003.\n",
      "Epoch 11/20\n",
      "99/99 [==============================] - 107s 1s/step - loss: 0.0720 - sparse_categorical_accuracy: 0.9807 - val_loss: 0.1909 - val_sparse_categorical_accuracy: 0.9599\n",
      "\n",
      "Epoch 00012: LearningRateScheduler reducing learning rate to 0.00011223616000000004.\n",
      "Epoch 12/20\n",
      "99/99 [==============================] - 108s 1s/step - loss: 0.0584 - sparse_categorical_accuracy: 0.9858 - val_loss: 0.1873 - val_sparse_categorical_accuracy: 0.9631\n",
      "\n",
      "Epoch 00013: LearningRateScheduler reducing learning rate to 9.178892800000003e-05.\n",
      "Epoch 13/20\n",
      "99/99 [==============================] - 104s 1s/step - loss: 0.0536 - sparse_categorical_accuracy: 0.9862 - val_loss: 0.1885 - val_sparse_categorical_accuracy: 0.9609\n",
      "\n",
      "Epoch 00014: LearningRateScheduler reducing learning rate to 7.543114240000003e-05.\n",
      "Epoch 14/20\n",
      "99/99 [==============================] - 109s 1s/step - loss: 0.0423 - sparse_categorical_accuracy: 0.9907 - val_loss: 0.1885 - val_sparse_categorical_accuracy: 0.9615\n",
      "\n",
      "Epoch 00015: LearningRateScheduler reducing learning rate to 6.234491392000002e-05.\n",
      "Epoch 15/20\n",
      "99/99 [==============================] - 109s 1s/step - loss: 0.0412 - sparse_categorical_accuracy: 0.9901 - val_loss: 0.1889 - val_sparse_categorical_accuracy: 0.9628\n",
      "\n",
      "Epoch 00016: LearningRateScheduler reducing learning rate to 5.1875931136000024e-05.\n",
      "Epoch 16/20\n",
      "99/99 [==============================] - 107s 1s/step - loss: 0.0394 - sparse_categorical_accuracy: 0.9912 - val_loss: 0.1861 - val_sparse_categorical_accuracy: 0.9628\n",
      "\n",
      "Epoch 00017: LearningRateScheduler reducing learning rate to 4.3500744908800015e-05.\n",
      "Epoch 17/20\n",
      "99/99 [==============================] - 109s 1s/step - loss: 0.0395 - sparse_categorical_accuracy: 0.9904 - val_loss: 0.1885 - val_sparse_categorical_accuracy: 0.9626\n",
      "\n",
      "Epoch 00018: LearningRateScheduler reducing learning rate to 3.6800595927040014e-05.\n",
      "Epoch 18/20\n",
      "99/99 [==============================] - 104s 1s/step - loss: 0.0335 - sparse_categorical_accuracy: 0.9928 - val_loss: 0.1880 - val_sparse_categorical_accuracy: 0.9636\n",
      "\n",
      "Epoch 00019: LearningRateScheduler reducing learning rate to 3.1440476741632015e-05.\n",
      "Epoch 19/20\n",
      "99/99 [==============================] - 109s 1s/step - loss: 0.0293 - sparse_categorical_accuracy: 0.9931 - val_loss: 0.1861 - val_sparse_categorical_accuracy: 0.9636\n",
      "\n",
      "Epoch 00020: LearningRateScheduler reducing learning rate to 2.7152381393305616e-05.\n",
      "Epoch 20/20\n",
      "99/99 [==============================] - 109s 1s/step - loss: 0.0271 - sparse_categorical_accuracy: 0.9943 - val_loss: 0.1879 - val_sparse_categorical_accuracy: 0.9652\n"
     ]
    }
   ],
   "source": [
    "# scheduler = tf.keras.callbacks.ReduceLROnPlateau(patience=3, verbose=1)\n",
    "lr_schedule = tf.keras.callbacks.LearningRateScheduler(lrfn, verbose=1)\n",
    "\n",
    "history1 = model.fit(\n",
    "    get_training_dataset(), \n",
    "    steps_per_epoch=STEPS_PER_EPOCH,\n",
    "    epochs=EPOCHS, \n",
    "    validation_data= get_validation_dataset(),\n",
    "    callbacks=[lr_schedule]\n",
    ")\n"
   ]
  },
  {
   "cell_type": "code",
   "execution_count": 21,
   "metadata": {},
   "outputs": [
    {
     "data": {
      "image/png": "[encoded data removed]",
      "text/plain": [
       "<Figure size 720x720 with 2 Axes>"
      ]
     },
     "metadata": {},
     "output_type": "display_data"
    }
   ],
   "source": [
    "display_training_curves(history1.history['loss'], history1.history['loss'], 'loss', 211)\n",
    "display_training_curves(history1.history['sparse_categorical_accuracy'], history1.history['sparse_categorical_accuracy'], 'accuracy', 212)\n"
   ]
  },
  {
   "cell_type": "code",
   "execution_count": 22,
   "metadata": {},
   "outputs": [
    {
     "name": "stdout",
     "output_type": "stream",
     "text": [
      "Train for 99 steps\n",
      "\n",
      "Epoch 00001: LearningRateScheduler reducing learning rate to 1e-05.\n",
      "Epoch 1/20\n",
      "99/99 [==============================] - 439s 4s/step - loss: 4.2892 - sparse_categorical_accuracy: 0.1061 - val_loss: 3.9386 - val_sparse_categorical_accuracy: 0.1487\n",
      "\n",
      "Epoch 00002: LearningRateScheduler reducing learning rate to 8.8e-05.\n",
      "Epoch 2/20\n",
      "99/99 [==============================] - 79s 793ms/step - loss: 1.9381 - sparse_categorical_accuracy: 0.6029 - val_loss: 1.0940 - val_sparse_categorical_accuracy: 0.7069\n",
      "\n",
      "Epoch 00003: LearningRateScheduler reducing learning rate to 0.000166.\n",
      "Epoch 3/20\n",
      "99/99 [==============================] - 73s 735ms/step - loss: 0.8126 - sparse_categorical_accuracy: 0.8314 - val_loss: 0.5352 - val_sparse_categorical_accuracy: 0.8319\n",
      "\n",
      "Epoch 00004: LearningRateScheduler reducing learning rate to 0.000244.\n",
      "Epoch 4/20\n",
      "99/99 [==============================] - 71s 716ms/step - loss: 0.4851 - sparse_categorical_accuracy: 0.8990 - val_loss: 0.5377 - val_sparse_categorical_accuracy: 0.8621\n",
      "\n",
      "Epoch 00005: LearningRateScheduler reducing learning rate to 0.000322.\n",
      "Epoch 5/20\n",
      "99/99 [==============================] - 78s 790ms/step - loss: 0.3336 - sparse_categorical_accuracy: 0.9249 - val_loss: 0.5679 - val_sparse_categorical_accuracy: 0.8664\n",
      "\n",
      "Epoch 00006: LearningRateScheduler reducing learning rate to 0.0004.\n",
      "Epoch 6/20\n",
      "99/99 [==============================] - 76s 766ms/step - loss: 0.2909 - sparse_categorical_accuracy: 0.9388 - val_loss: 0.7874 - val_sparse_categorical_accuracy: 0.7909\n",
      "\n",
      "Epoch 00007: LearningRateScheduler reducing learning rate to 0.000322.\n",
      "Epoch 7/20\n",
      "99/99 [==============================] - 74s 743ms/step - loss: 0.1695 - sparse_categorical_accuracy: 0.9564 - val_loss: 0.3639 - val_sparse_categorical_accuracy: 0.9138\n",
      "\n",
      "Epoch 00008: LearningRateScheduler reducing learning rate to 0.0002596000000000001.\n",
      "Epoch 8/20\n",
      "99/99 [==============================] - 72s 728ms/step - loss: 0.1001 - sparse_categorical_accuracy: 0.9779 - val_loss: 0.2840 - val_sparse_categorical_accuracy: 0.9116\n",
      "\n",
      "Epoch 00009: LearningRateScheduler reducing learning rate to 0.00020968000000000004.\n",
      "Epoch 9/20\n",
      "99/99 [==============================] - 79s 800ms/step - loss: 0.0516 - sparse_categorical_accuracy: 0.9918 - val_loss: 0.2645 - val_sparse_categorical_accuracy: 0.9375\n",
      "\n",
      "Epoch 00010: LearningRateScheduler reducing learning rate to 0.00016974400000000002.\n",
      "Epoch 10/20\n",
      "99/99 [==============================] - 76s 768ms/step - loss: 0.0276 - sparse_categorical_accuracy: 0.9956 - val_loss: 0.2242 - val_sparse_categorical_accuracy: 0.9547\n",
      "\n",
      "Epoch 00011: LearningRateScheduler reducing learning rate to 0.00013779520000000003.\n",
      "Epoch 11/20\n",
      "99/99 [==============================] - 74s 746ms/step - loss: 0.0196 - sparse_categorical_accuracy: 0.9975 - val_loss: 0.2303 - val_sparse_categorical_accuracy: 0.9591\n",
      "\n",
      "Epoch 00012: LearningRateScheduler reducing learning rate to 0.00011223616000000004.\n",
      "Epoch 12/20\n",
      "99/99 [==============================] - 71s 718ms/step - loss: 0.0138 - sparse_categorical_accuracy: 1.0000 - val_loss: 0.2180 - val_sparse_categorical_accuracy: 0.9612\n",
      "\n",
      "Epoch 00013: LearningRateScheduler reducing learning rate to 9.178892800000003e-05.\n",
      "Epoch 13/20\n",
      "99/99 [==============================] - 79s 802ms/step - loss: 0.0118 - sparse_categorical_accuracy: 0.9994 - val_loss: 0.2260 - val_sparse_categorical_accuracy: 0.9569\n",
      "\n",
      "Epoch 00014: LearningRateScheduler reducing learning rate to 7.543114240000003e-05.\n",
      "Epoch 14/20\n",
      "99/99 [==============================] - 76s 767ms/step - loss: 0.0098 - sparse_categorical_accuracy: 0.9981 - val_loss: 0.2230 - val_sparse_categorical_accuracy: 0.9569\n",
      "\n",
      "Epoch 00015: LearningRateScheduler reducing learning rate to 6.234491392000002e-05.\n",
      "Epoch 15/20\n",
      "99/99 [==============================] - 74s 743ms/step - loss: 0.0083 - sparse_categorical_accuracy: 0.9994 - val_loss: 0.2189 - val_sparse_categorical_accuracy: 0.9612\n",
      "\n",
      "Epoch 00016: LearningRateScheduler reducing learning rate to 5.1875931136000024e-05.\n",
      "Epoch 16/20\n",
      "99/99 [==============================] - 71s 721ms/step - loss: 0.0077 - sparse_categorical_accuracy: 1.0000 - val_loss: 0.2236 - val_sparse_categorical_accuracy: 0.9569\n",
      "\n",
      "Epoch 00017: LearningRateScheduler reducing learning rate to 4.3500744908800015e-05.\n",
      "Epoch 17/20\n",
      "99/99 [==============================] - 80s 808ms/step - loss: 0.0071 - sparse_categorical_accuracy: 0.9987 - val_loss: 0.2187 - val_sparse_categorical_accuracy: 0.9655\n",
      "\n",
      "Epoch 00018: LearningRateScheduler reducing learning rate to 3.6800595927040014e-05.\n",
      "Epoch 18/20\n",
      "99/99 [==============================] - 75s 761ms/step - loss: 0.0080 - sparse_categorical_accuracy: 0.9994 - val_loss: 0.2196 - val_sparse_categorical_accuracy: 0.9569\n",
      "\n",
      "Epoch 00019: LearningRateScheduler reducing learning rate to 3.1440476741632015e-05.\n",
      "Epoch 19/20\n",
      "99/99 [==============================] - 73s 741ms/step - loss: 0.0063 - sparse_categorical_accuracy: 0.9994 - val_loss: 0.2227 - val_sparse_categorical_accuracy: 0.9547\n",
      "\n",
      "Epoch 00020: LearningRateScheduler reducing learning rate to 2.7152381393305616e-05.\n",
      "Epoch 20/20\n",
      "99/99 [==============================] - 78s 788ms/step - loss: 0.0065 - sparse_categorical_accuracy: 1.0000 - val_loss: 0.2252 - val_sparse_categorical_accuracy: 0.9677\n"
     ]
    }
   ],
   "source": [
    "history2 = model2.fit(\n",
    "    get_training_dataset(),\n",
    "    steps_per_epoch=STEPS_PER_EPOCH,\n",
    "    epochs=EPOCHS, \n",
    "    validation_data= get_validation_dataset(),\n",
    "    callbacks=[lr_schedule]\n",
    ")\n"
   ]
  },
  {
   "cell_type": "code",
   "execution_count": 23,
   "metadata": {},
   "outputs": [
    {
     "data": {
      "image/png": "[encoded data removed]",
      "text/plain": [
       "<Figure size 720x720 with 2 Axes>"
      ]
     },
     "metadata": {},
     "output_type": "display_data"
    }
   ],
   "source": [
    "display_training_curves(history2.history['loss'], history2.history['loss'], 'loss', 211)\n",
    "display_training_curves(history2.history['sparse_categorical_accuracy'], history2.history['sparse_categorical_accuracy'], 'accuracy', 212)\n"
   ]
  },
  {
   "cell_type": "code",
   "execution_count": 24,
   "metadata": {},
   "outputs": [
    {
     "name": "stdout",
     "output_type": "stream",
     "text": [
      "Train for 99 steps\n",
      "\n",
      "Epoch 00001: LearningRateScheduler reducing learning rate to 1e-05.\n",
      "Epoch 1/20\n",
      "99/99 [==============================] - 98s 995ms/step - loss: 4.5232 - sparse_categorical_accuracy: 0.0442 - val_loss: 4.5402 - val_sparse_categorical_accuracy: 0.0216\n",
      "\n",
      "Epoch 00002: LearningRateScheduler reducing learning rate to 8.8e-05.\n",
      "Epoch 2/20\n",
      "99/99 [==============================] - 26s 265ms/step - loss: 2.8708 - sparse_categorical_accuracy: 0.3649 - val_loss: 2.9400 - val_sparse_categorical_accuracy: 0.2866\n",
      "\n",
      "Epoch 00003: LearningRateScheduler reducing learning rate to 0.000166.\n",
      "Epoch 3/20\n",
      "99/99 [==============================] - 25s 254ms/step - loss: 1.3728 - sparse_categorical_accuracy: 0.6799 - val_loss: 2.4629 - val_sparse_categorical_accuracy: 0.3944\n",
      "\n",
      "Epoch 00004: LearningRateScheduler reducing learning rate to 0.000244.\n",
      "Epoch 4/20\n",
      "99/99 [==============================] - 28s 283ms/step - loss: 0.8145 - sparse_categorical_accuracy: 0.8037 - val_loss: 2.7269 - val_sparse_categorical_accuracy: 0.3513\n",
      "\n",
      "Epoch 00005: LearningRateScheduler reducing learning rate to 0.000322.\n",
      "Epoch 5/20\n",
      "99/99 [==============================] - 27s 273ms/step - loss: 0.5765 - sparse_categorical_accuracy: 0.8479 - val_loss: 4.0043 - val_sparse_categorical_accuracy: 0.1832\n",
      "\n",
      "Epoch 00006: LearningRateScheduler reducing learning rate to 0.0004.\n",
      "Epoch 6/20\n",
      "99/99 [==============================] - 29s 292ms/step - loss: 0.4465 - sparse_categorical_accuracy: 0.8782 - val_loss: 5.7697 - val_sparse_categorical_accuracy: 0.1207\n",
      "\n",
      "Epoch 00007: LearningRateScheduler reducing learning rate to 0.000322.\n",
      "Epoch 7/20\n",
      "99/99 [==============================] - 30s 305ms/step - loss: 0.2993 - sparse_categorical_accuracy: 0.9381 - val_loss: 5.4538 - val_sparse_categorical_accuracy: 0.1573\n",
      "\n",
      "Epoch 00008: LearningRateScheduler reducing learning rate to 0.0002596000000000001.\n",
      "Epoch 8/20\n",
      "99/99 [==============================] - 30s 300ms/step - loss: 0.2184 - sparse_categorical_accuracy: 0.9501 - val_loss: 4.9359 - val_sparse_categorical_accuracy: 0.1724\n",
      "\n",
      "Epoch 00009: LearningRateScheduler reducing learning rate to 0.00020968000000000004.\n",
      "Epoch 9/20\n",
      "99/99 [==============================] - 30s 306ms/step - loss: 0.1575 - sparse_categorical_accuracy: 0.9571 - val_loss: 5.1192 - val_sparse_categorical_accuracy: 0.1810\n",
      "\n",
      "Epoch 00010: LearningRateScheduler reducing learning rate to 0.00016974400000000002.\n",
      "Epoch 10/20\n",
      "99/99 [==============================] - 30s 304ms/step - loss: 0.1244 - sparse_categorical_accuracy: 0.9735 - val_loss: 5.0769 - val_sparse_categorical_accuracy: 0.2306\n",
      "\n",
      "Epoch 00011: LearningRateScheduler reducing learning rate to 0.00013779520000000003.\n",
      "Epoch 11/20\n",
      "99/99 [==============================] - 30s 306ms/step - loss: 0.0965 - sparse_categorical_accuracy: 0.9785 - val_loss: 3.7650 - val_sparse_categorical_accuracy: 0.3578\n",
      "\n",
      "Epoch 00012: LearningRateScheduler reducing learning rate to 0.00011223616000000004.\n",
      "Epoch 12/20\n",
      "99/99 [==============================] - 29s 298ms/step - loss: 0.0867 - sparse_categorical_accuracy: 0.9785 - val_loss: 2.8926 - val_sparse_categorical_accuracy: 0.4806\n",
      "\n",
      "Epoch 00013: LearningRateScheduler reducing learning rate to 9.178892800000003e-05.\n",
      "Epoch 13/20\n",
      "99/99 [==============================] - 31s 312ms/step - loss: 0.0674 - sparse_categorical_accuracy: 0.9924 - val_loss: 2.5492 - val_sparse_categorical_accuracy: 0.5560\n",
      "\n",
      "Epoch 00014: LearningRateScheduler reducing learning rate to 7.543114240000003e-05.\n",
      "Epoch 14/20\n",
      "99/99 [==============================] - 30s 299ms/step - loss: 0.0610 - sparse_categorical_accuracy: 0.9905 - val_loss: 2.0053 - val_sparse_categorical_accuracy: 0.6422\n",
      "\n",
      "Epoch 00015: LearningRateScheduler reducing learning rate to 6.234491392000002e-05.\n",
      "Epoch 15/20\n",
      "99/99 [==============================] - 31s 314ms/step - loss: 0.0554 - sparse_categorical_accuracy: 0.9886 - val_loss: 1.8679 - val_sparse_categorical_accuracy: 0.6616\n",
      "\n",
      "Epoch 00016: LearningRateScheduler reducing learning rate to 5.1875931136000024e-05.\n",
      "Epoch 16/20\n",
      "99/99 [==============================] - 31s 317ms/step - loss: 0.0530 - sparse_categorical_accuracy: 0.9924 - val_loss: 1.6127 - val_sparse_categorical_accuracy: 0.7241\n",
      "\n",
      "Epoch 00017: LearningRateScheduler reducing learning rate to 4.3500744908800015e-05.\n",
      "Epoch 17/20\n",
      "99/99 [==============================] - 31s 314ms/step - loss: 0.0465 - sparse_categorical_accuracy: 0.9949 - val_loss: 1.3117 - val_sparse_categorical_accuracy: 0.7500\n",
      "\n",
      "Epoch 00018: LearningRateScheduler reducing learning rate to 3.6800595927040014e-05.\n",
      "Epoch 18/20\n",
      "99/99 [==============================] - 31s 314ms/step - loss: 0.0440 - sparse_categorical_accuracy: 0.9968 - val_loss: 1.0724 - val_sparse_categorical_accuracy: 0.7974\n",
      "\n",
      "Epoch 00019: LearningRateScheduler reducing learning rate to 3.1440476741632015e-05.\n",
      "Epoch 19/20\n",
      "99/99 [==============================] - 31s 313ms/step - loss: 0.0438 - sparse_categorical_accuracy: 0.9905 - val_loss: 0.9081 - val_sparse_categorical_accuracy: 0.8297\n",
      "\n",
      "Epoch 00020: LearningRateScheduler reducing learning rate to 2.7152381393305616e-05.\n",
      "Epoch 20/20\n",
      "99/99 [==============================] - 32s 319ms/step - loss: 0.0387 - sparse_categorical_accuracy: 0.9943 - val_loss: 0.7729 - val_sparse_categorical_accuracy: 0.8448\n"
     ]
    }
   ],
   "source": [
    "history3= model3.fit(\n",
    "    get_training_dataset(),\n",
    "    steps_per_epoch=STEPS_PER_EPOCH,\n",
    "    epochs=EPOCHS, \n",
    "    validation_data= get_validation_dataset(),\n",
    "    callbacks=[lr_schedule]\n",
    ")"
   ]
  },
  {
   "cell_type": "code",
   "execution_count": 25,
   "metadata": {},
   "outputs": [
    {
     "data": {
      "image/png": "[encoded data removed]",
      "text/plain": [
       "<Figure size 720x720 with 2 Axes>"
      ]
     },
     "metadata": {},
     "output_type": "display_data"
    }
   ],
   "source": [
    "display_training_curves(history3.history['loss'], history3.history['loss'], 'loss', 211)\n",
    "display_training_curves(history3.history['sparse_categorical_accuracy'], history3.history['sparse_categorical_accuracy'], 'accuracy', 212)\n"
   ]
  },
  {
   "cell_type": "code",
   "execution_count": 26,
   "metadata": {},
   "outputs": [
    {
     "name": "stdout",
     "output_type": "stream",
     "text": [
      "Train for 99 steps\n",
      "\n",
      "Epoch 00001: LearningRateScheduler reducing learning rate to 1e-05.\n",
      "Epoch 1/20\n",
      "99/99 [==============================] - 146s 1s/step - loss: 4.2462 - sparse_categorical_accuracy: 0.1225 - val_loss: 3.6875 - val_sparse_categorical_accuracy: 0.2177\n",
      "\n",
      "Epoch 00002: LearningRateScheduler reducing learning rate to 8.8e-05.\n",
      "Epoch 2/20\n",
      "99/99 [==============================] - 32s 319ms/step - loss: 2.0144 - sparse_categorical_accuracy: 0.5568 - val_loss: 0.8868 - val_sparse_categorical_accuracy: 0.7629\n",
      "\n",
      "Epoch 00003: LearningRateScheduler reducing learning rate to 0.000166.\n",
      "Epoch 3/20\n",
      "99/99 [==============================] - 32s 322ms/step - loss: 0.7757 - sparse_categorical_accuracy: 0.8213 - val_loss: 0.4715 - val_sparse_categorical_accuracy: 0.8836\n",
      "\n",
      "Epoch 00004: LearningRateScheduler reducing learning rate to 0.000244.\n",
      "Epoch 4/20\n",
      "99/99 [==============================] - 34s 342ms/step - loss: 0.4678 - sparse_categorical_accuracy: 0.8838 - val_loss: 0.5711 - val_sparse_categorical_accuracy: 0.8319\n",
      "\n",
      "Epoch 00005: LearningRateScheduler reducing learning rate to 0.000322.\n",
      "Epoch 5/20\n",
      "99/99 [==============================] - 31s 315ms/step - loss: 0.3645 - sparse_categorical_accuracy: 0.9059 - val_loss: 0.6951 - val_sparse_categorical_accuracy: 0.8211\n",
      "\n",
      "Epoch 00006: LearningRateScheduler reducing learning rate to 0.0004.\n",
      "Epoch 6/20\n",
      "99/99 [==============================] - 34s 348ms/step - loss: 0.3225 - sparse_categorical_accuracy: 0.9072 - val_loss: 1.1164 - val_sparse_categorical_accuracy: 0.7371\n",
      "\n",
      "Epoch 00007: LearningRateScheduler reducing learning rate to 0.000322.\n",
      "Epoch 7/20\n",
      "99/99 [==============================] - 31s 317ms/step - loss: 0.2094 - sparse_categorical_accuracy: 0.9419 - val_loss: 0.5638 - val_sparse_categorical_accuracy: 0.8621\n",
      "\n",
      "Epoch 00008: LearningRateScheduler reducing learning rate to 0.0002596000000000001.\n",
      "Epoch 8/20\n",
      "99/99 [==============================] - 35s 351ms/step - loss: 0.1211 - sparse_categorical_accuracy: 0.9684 - val_loss: 0.3442 - val_sparse_categorical_accuracy: 0.9224\n",
      "\n",
      "Epoch 00009: LearningRateScheduler reducing learning rate to 0.00020968000000000004.\n",
      "Epoch 9/20\n",
      "99/99 [==============================] - 31s 317ms/step - loss: 0.0614 - sparse_categorical_accuracy: 0.9842 - val_loss: 0.2819 - val_sparse_categorical_accuracy: 0.9353\n",
      "\n",
      "Epoch 00010: LearningRateScheduler reducing learning rate to 0.00016974400000000002.\n",
      "Epoch 10/20\n",
      "99/99 [==============================] - 34s 345ms/step - loss: 0.0390 - sparse_categorical_accuracy: 0.9937 - val_loss: 0.2842 - val_sparse_categorical_accuracy: 0.9440\n",
      "\n",
      "Epoch 00011: LearningRateScheduler reducing learning rate to 0.00013779520000000003.\n",
      "Epoch 11/20\n",
      "99/99 [==============================] - 32s 320ms/step - loss: 0.0275 - sparse_categorical_accuracy: 0.9956 - val_loss: 0.2660 - val_sparse_categorical_accuracy: 0.9547\n",
      "\n",
      "Epoch 00012: LearningRateScheduler reducing learning rate to 0.00011223616000000004.\n",
      "Epoch 12/20\n",
      "99/99 [==============================] - 34s 348ms/step - loss: 0.0212 - sparse_categorical_accuracy: 0.9937 - val_loss: 0.2776 - val_sparse_categorical_accuracy: 0.9483\n",
      "\n",
      "Epoch 00013: LearningRateScheduler reducing learning rate to 9.178892800000003e-05.\n",
      "Epoch 13/20\n",
      "99/99 [==============================] - 33s 336ms/step - loss: 0.0150 - sparse_categorical_accuracy: 0.9987 - val_loss: 0.2732 - val_sparse_categorical_accuracy: 0.9483\n",
      "\n",
      "Epoch 00014: LearningRateScheduler reducing learning rate to 7.543114240000003e-05.\n",
      "Epoch 14/20\n",
      "99/99 [==============================] - 33s 331ms/step - loss: 0.0130 - sparse_categorical_accuracy: 1.0000 - val_loss: 0.2781 - val_sparse_categorical_accuracy: 0.9569\n",
      "\n",
      "Epoch 00015: LearningRateScheduler reducing learning rate to 6.234491392000002e-05.\n",
      "Epoch 15/20\n",
      "99/99 [==============================] - 35s 354ms/step - loss: 0.0105 - sparse_categorical_accuracy: 0.9994 - val_loss: 0.2683 - val_sparse_categorical_accuracy: 0.9526\n",
      "\n",
      "Epoch 00016: LearningRateScheduler reducing learning rate to 5.1875931136000024e-05.\n",
      "Epoch 16/20\n",
      "99/99 [==============================] - 32s 321ms/step - loss: 0.0102 - sparse_categorical_accuracy: 0.9994 - val_loss: 0.2675 - val_sparse_categorical_accuracy: 0.9569\n",
      "\n",
      "Epoch 00017: LearningRateScheduler reducing learning rate to 4.3500744908800015e-05.\n",
      "Epoch 17/20\n",
      "99/99 [==============================] - 36s 359ms/step - loss: 0.0078 - sparse_categorical_accuracy: 1.0000 - val_loss: 0.2697 - val_sparse_categorical_accuracy: 0.9591\n",
      "\n",
      "Epoch 00018: LearningRateScheduler reducing learning rate to 3.6800595927040014e-05.\n",
      "Epoch 18/20\n",
      "99/99 [==============================] - 32s 324ms/step - loss: 0.0086 - sparse_categorical_accuracy: 0.9994 - val_loss: 0.2688 - val_sparse_categorical_accuracy: 0.9569\n",
      "\n",
      "Epoch 00019: LearningRateScheduler reducing learning rate to 3.1440476741632015e-05.\n",
      "Epoch 19/20\n",
      "99/99 [==============================] - 36s 364ms/step - loss: 0.0081 - sparse_categorical_accuracy: 1.0000 - val_loss: 0.2691 - val_sparse_categorical_accuracy: 0.9526\n",
      "\n",
      "Epoch 00020: LearningRateScheduler reducing learning rate to 2.7152381393305616e-05.\n",
      "Epoch 20/20\n",
      "99/99 [==============================] - 36s 361ms/step - loss: 0.0066 - sparse_categorical_accuracy: 1.0000 - val_loss: 0.2719 - val_sparse_categorical_accuracy: 0.9504\n"
     ]
    }
   ],
   "source": [
    "history4= model4.fit(\n",
    "    get_training_dataset(),\n",
    "    steps_per_epoch=STEPS_PER_EPOCH,\n",
    "    epochs=EPOCHS, \n",
    "    validation_data= get_validation_dataset(),\n",
    "    callbacks=[lr_schedule]\n",
    ")\n"
   ]
  },
  {
   "cell_type": "code",
   "execution_count": 27,
   "metadata": {},
   "outputs": [
    {
     "data": {
      "image/png": "[encoded data removed]",
      "text/plain": [
       "<Figure size 720x720 with 2 Axes>"
      ]
     },
     "metadata": {},
     "output_type": "display_data"
    }
   ],
   "source": [
    "display_training_curves(history4.history['loss'], history4.history['loss'], 'loss', 211)\n",
    "display_training_curves(history4.history['sparse_categorical_accuracy'], history4.history['sparse_categorical_accuracy'], 'accuracy', 212)\n"
   ]
  },
  {
   "cell_type": "code",
   "execution_count": 28,
   "metadata": {},
   "outputs": [
    {
     "name": "stdout",
     "output_type": "stream",
     "text": [
      "Train for 99 steps\n",
      "\n",
      "Epoch 00001: LearningRateScheduler reducing learning rate to 1e-05.\n",
      "Epoch 1/20\n",
      "99/99 [==============================] - 117s 1s/step - loss: 4.4660 - sparse_categorical_accuracy: 0.0934 - val_loss: 4.1697 - val_sparse_categorical_accuracy: 0.2004\n",
      "\n",
      "Epoch 00002: LearningRateScheduler reducing learning rate to 8.8e-05.\n",
      "Epoch 2/20\n",
      "99/99 [==============================] - 31s 313ms/step - loss: 2.6484 - sparse_categorical_accuracy: 0.4520 - val_loss: 1.4331 - val_sparse_categorical_accuracy: 0.6659\n",
      "\n",
      "Epoch 00003: LearningRateScheduler reducing learning rate to 0.000166.\n",
      "Epoch 3/20\n",
      "99/99 [==============================] - 34s 345ms/step - loss: 1.0396 - sparse_categorical_accuracy: 0.7885 - val_loss: 0.5532 - val_sparse_categorical_accuracy: 0.8815\n",
      "\n",
      "Epoch 00004: LearningRateScheduler reducing learning rate to 0.000244.\n",
      "Epoch 4/20\n",
      "99/99 [==============================] - 31s 317ms/step - loss: 0.4843 - sparse_categorical_accuracy: 0.9015 - val_loss: 0.4384 - val_sparse_categorical_accuracy: 0.8879\n",
      "\n",
      "Epoch 00005: LearningRateScheduler reducing learning rate to 0.000322.\n",
      "Epoch 5/20\n",
      "99/99 [==============================] - 34s 340ms/step - loss: 0.2883 - sparse_categorical_accuracy: 0.9444 - val_loss: 0.4007 - val_sparse_categorical_accuracy: 0.8966\n",
      "\n",
      "Epoch 00006: LearningRateScheduler reducing learning rate to 0.0004.\n",
      "Epoch 6/20\n",
      "99/99 [==============================] - 31s 311ms/step - loss: 0.2121 - sparse_categorical_accuracy: 0.9438 - val_loss: 0.3920 - val_sparse_categorical_accuracy: 0.8987\n",
      "\n",
      "Epoch 00007: LearningRateScheduler reducing learning rate to 0.000322.\n",
      "Epoch 7/20\n",
      "99/99 [==============================] - 35s 351ms/step - loss: 0.1245 - sparse_categorical_accuracy: 0.9741 - val_loss: 0.3772 - val_sparse_categorical_accuracy: 0.8987\n",
      "\n",
      "Epoch 00008: LearningRateScheduler reducing learning rate to 0.0002596000000000001.\n",
      "Epoch 8/20\n",
      "99/99 [==============================] - 31s 310ms/step - loss: 0.0658 - sparse_categorical_accuracy: 0.9861 - val_loss: 0.3413 - val_sparse_categorical_accuracy: 0.9246\n",
      "\n",
      "Epoch 00009: LearningRateScheduler reducing learning rate to 0.00020968000000000004.\n",
      "Epoch 9/20\n",
      "99/99 [==============================] - 33s 337ms/step - loss: 0.0398 - sparse_categorical_accuracy: 0.9918 - val_loss: 0.2896 - val_sparse_categorical_accuracy: 0.9289\n",
      "\n",
      "Epoch 00010: LearningRateScheduler reducing learning rate to 0.00016974400000000002.\n",
      "Epoch 10/20\n",
      "99/99 [==============================] - 39s 396ms/step - loss: 0.0229 - sparse_categorical_accuracy: 0.9975 - val_loss: 0.2765 - val_sparse_categorical_accuracy: 0.9310\n",
      "\n",
      "Epoch 00011: LearningRateScheduler reducing learning rate to 0.00013779520000000003.\n",
      "Epoch 11/20\n",
      "99/99 [==============================] - 31s 318ms/step - loss: 0.0183 - sparse_categorical_accuracy: 0.9943 - val_loss: 0.2739 - val_sparse_categorical_accuracy: 0.9159\n",
      "\n",
      "Epoch 00012: LearningRateScheduler reducing learning rate to 0.00011223616000000004.\n",
      "Epoch 12/20\n",
      "99/99 [==============================] - 35s 351ms/step - loss: 0.0116 - sparse_categorical_accuracy: 1.0000 - val_loss: 0.2540 - val_sparse_categorical_accuracy: 0.9440\n",
      "\n",
      "Epoch 00013: LearningRateScheduler reducing learning rate to 9.178892800000003e-05.\n",
      "Epoch 13/20\n",
      "99/99 [==============================] - 32s 319ms/step - loss: 0.0096 - sparse_categorical_accuracy: 1.0000 - val_loss: 0.2574 - val_sparse_categorical_accuracy: 0.9310\n",
      "\n",
      "Epoch 00014: LearningRateScheduler reducing learning rate to 7.543114240000003e-05.\n",
      "Epoch 14/20\n",
      "99/99 [==============================] - 35s 357ms/step - loss: 0.0098 - sparse_categorical_accuracy: 1.0000 - val_loss: 0.2638 - val_sparse_categorical_accuracy: 0.9332\n",
      "\n",
      "Epoch 00015: LearningRateScheduler reducing learning rate to 6.234491392000002e-05.\n",
      "Epoch 15/20\n",
      "99/99 [==============================] - 31s 317ms/step - loss: 0.0078 - sparse_categorical_accuracy: 0.9987 - val_loss: 0.2646 - val_sparse_categorical_accuracy: 0.9289\n",
      "\n",
      "Epoch 00016: LearningRateScheduler reducing learning rate to 5.1875931136000024e-05.\n",
      "Epoch 16/20\n",
      "99/99 [==============================] - 34s 343ms/step - loss: 0.0072 - sparse_categorical_accuracy: 1.0000 - val_loss: 0.2591 - val_sparse_categorical_accuracy: 0.9332\n",
      "\n",
      "Epoch 00017: LearningRateScheduler reducing learning rate to 4.3500744908800015e-05.\n",
      "Epoch 17/20\n",
      "99/99 [==============================] - 39s 396ms/step - loss: 0.0068 - sparse_categorical_accuracy: 1.0000 - val_loss: 0.2602 - val_sparse_categorical_accuracy: 0.9310\n",
      "\n",
      "Epoch 00018: LearningRateScheduler reducing learning rate to 3.6800595927040014e-05.\n",
      "Epoch 18/20\n",
      "99/99 [==============================] - 32s 321ms/step - loss: 0.0053 - sparse_categorical_accuracy: 0.9987 - val_loss: 0.2609 - val_sparse_categorical_accuracy: 0.9310\n",
      "\n",
      "Epoch 00019: LearningRateScheduler reducing learning rate to 3.1440476741632015e-05.\n",
      "Epoch 19/20\n",
      "99/99 [==============================] - 36s 366ms/step - loss: 0.0056 - sparse_categorical_accuracy: 0.9994 - val_loss: 0.2625 - val_sparse_categorical_accuracy: 0.9332\n",
      "\n",
      "Epoch 00020: LearningRateScheduler reducing learning rate to 2.7152381393305616e-05.\n",
      "Epoch 20/20\n",
      "99/99 [==============================] - 32s 324ms/step - loss: 0.0048 - sparse_categorical_accuracy: 0.9994 - val_loss: 0.2622 - val_sparse_categorical_accuracy: 0.9310\n"
     ]
    }
   ],
   "source": [
    "history5= model5.fit(\n",
    "    get_training_dataset(),\n",
    "    steps_per_epoch=STEPS_PER_EPOCH,\n",
    "    epochs=EPOCHS, \n",
    "    validation_data= get_validation_dataset(),\n",
    "    callbacks=[lr_schedule]\n",
    ")"
   ]
  },
  {
   "cell_type": "code",
   "execution_count": 29,
   "metadata": {},
   "outputs": [
    {
     "data": {
      "image/png": "[encoded data removed]",
      "text/plain": [
       "<Figure size 720x720 with 2 Axes>"
      ]
     },
     "metadata": {},
     "output_type": "display_data"
    }
   ],
   "source": [
    "display_training_curves(history5.history['loss'], history5.history['loss'], 'loss', 211)\n",
    "display_training_curves(history5.history['sparse_categorical_accuracy'], history5.history['sparse_categorical_accuracy'], 'accuracy', 212)\n"
   ]
  },
  {
   "cell_type": "markdown",
   "metadata": {},
   "source": [
    "# Predictions model1 {ENet+DenseNet201+MobileNetv2+InceptionV3+Xception}"
   ]
  },
  {
   "cell_type": "code",
   "execution_count": 30,
   "metadata": {},
   "outputs": [
    {
     "name": "stdout",
     "output_type": "stream",
     "text": [
      "Computing predictions...\n",
      "Generating submission.csv file...\n"
     ]
    }
   ],
   "source": [
    "test_ds = get_test_dataset(ordered=True) # since we are splitting the dataset and iterating separately on images and ids, order matters.\n",
    "\n",
    "print('Computing predictions...')\n",
    "test_images_ds = test_ds.map(lambda image, idnum: image)\n",
    "#ENet\n",
    "probabilities1 = model.predict(test_images_ds)\n",
    "#DenseNet201\n",
    "probabilities2 = model2.predict(test_images_ds)\n",
    "#MobileNetV2\n",
    "probabilities3 = model3.predict(test_images_ds)\n",
    "#InceptionV3\n",
    "probabilities4 = model4.predict(test_images_ds)\n",
    "#Xception\n",
    "probabilities5 = model5.predict(test_images_ds)\n",
    "#average\n",
    "\n",
    "probabilities = (probabilities1 + probabilities2+ probabilities3+ probabilities4 +  probabilities5)/5\n",
    "#predictions1 = np.argmax(probabilities1, axis=-1)\n",
    "#predictions2 = np.argmax(probabilities2, axis=-1)\n",
    "#predictions3 = np.argmax(probabilities3, axis=-1)\n",
    "#predictions4 = np.argmax(probabilities4, axis=-1)\n",
    "#predictions5 = np.argmax(probabilities5, axis=-1)\n",
    "#print(predictions1)\n",
    "#print(predictions2)\n",
    "#print(predictions3)\n",
    "#print(predictions4)\n",
    "#print(predictions5)\n",
    "predictions = np.argmax(probabilities, axis=-1)\n",
    "print('Generating submission.csv file...')\n",
    "test_ids_ds = test_ds.map(lambda image, idnum: idnum).unbatch()\n",
    "test_ids = next(iter(test_ids_ds.batch(NUM_TEST_IMAGES))).numpy().astype('U') # all in one batch\n",
    "np.savetxt('submission.csv', np.rec.fromarrays([test_ids, predictions]), fmt=['%s', '%d'], delimiter=',', header='id,label', comments='')\n",
    "#np.savetxt('submissionD.csv', np.rec.fromarrays([test_ids, predictions2]), fmt=['%s', '%d'], delimiter=',', header='id,label', comments='')\n",
    "#np.savetxt('submissionM.csv', np.rec.fromarrays([test_ids, predictions3]), fmt=['%s', '%d'], delimiter=',', header='id,label', comments='')\n",
    "#np.savetxt('submissionI.csv', np.rec.fromarrays([test_ids, predictions4]), fmt=['%s', '%d'], delimiter=',', header='id,label', comments='')\n",
    "#np.savetxt('submissionX.csv', np.rec.fromarrays([test_ids, predictions5]), fmt=['%s', '%d'], delimiter=',', header='id,label', comments='')\n"
   ]
  },
  {
   "cell_type": "code",
   "execution_count": null,
   "metadata": {},
   "outputs": [],
   "source": []
  }
 ],
 "metadata": {
  "kernelspec": {
   "display_name": "Python 3",
   "language": "python",
   "name": "python3"
  },
  "language_info": {
   "codemirror_mode": {
    "name": "ipython",
    "version": 3
   },
   "file_extension": ".py",
   "mimetype": "text/x-python",
   "name": "python",
   "nbconvert_exporter": "python",
   "pygments_lexer": "ipython3",
   "version": "3.6.6"
  }
 },
 "nbformat": 4,
 "nbformat_minor": 4
}
